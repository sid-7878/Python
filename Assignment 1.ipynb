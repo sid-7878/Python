{
 "cells": [
  {
   "cell_type": "code",
   "execution_count": 4,
   "id": "daca81a5-b420-4f05-86e6-a588d49c4eb2",
   "metadata": {},
   "outputs": [
    {
     "name": "stdout",
     "output_type": "stream",
     "text": [
      "<class 'str'> hello world\n",
      "<class 'list'> [1, 2, 3, 123, 'AI', 2.3]\n",
      "<class 'float'> 34.6\n",
      "<class 'tuple'> (3, 2, 4, (3, 4), [7, 8, 9])\n"
     ]
    }
   ],
   "source": [
    "#Q1. Create one variable containing following type of data \n",
    "str = \"hello world\"\n",
    "list = [1 ,2,3, 123,'AI',2.3]\n",
    "float = 34.60\n",
    "tuple =(3,2,4,(3,4,),[7,8,9])\n",
    "print(type(str),str)\n",
    "print(type(list),list)\n",
    "print(type(float),float)\n",
    "print(type(tuple),tuple)\n"
   ]
  },
  {
   "cell_type": "code",
   "execution_count": 6,
   "id": "295191c1-9068-42b6-b8c5-e385326481a7",
   "metadata": {},
   "outputs": [
    {
     "name": "stdout",
     "output_type": "stream",
     "text": [
      "<class 'str'>  \n",
      "<class 'str'> [ DS , ML , Python]\n",
      "<class 'float'> 34.6\n",
      "<class 'tuple'> (3, 2, 4, (3, 4), [7, 8, 9])\n"
     ]
    }
   ],
   "source": [
    "#Q2. Given are some following variables containing data:\n",
    "var1 = \" \"\n",
    "var2 = \"[ DS , ML , Python]\"\n",
    "var3 = [ 'DS' , 'ML' , 'Python' ]\n",
    "var4 = 1\n",
    "print(type(var1),var1)\n",
    "print(type(var2),var2)\n",
    "print(type(float),float)\n",
    "print(type(tuple),tuple)"
   ]
  },
  {
   "cell_type": "code",
   "execution_count": 8,
   "id": "6973ee30-a10c-4954-8ea6-51f46a82752c",
   "metadata": {},
   "outputs": [
    {
     "name": "stdout",
     "output_type": "stream",
     "text": [
      "2.0\n",
      "1\n",
      "3\n",
      "16\n"
     ]
    }
   ],
   "source": [
    "#Q3. Explain the use of the following operators using an example:\n",
    "a = 20/10\n",
    "b = 16%3\n",
    "c = 7//2\n",
    "d = 4**2\n",
    "print(a)\n",
    "print(b)\n",
    "print(c)\n",
    "print(d)"
   ]
  },
  {
   "cell_type": "code",
   "execution_count": 10,
   "id": "03fd55db-a005-4fb3-827f-bdb7058d22ea",
   "metadata": {},
   "outputs": [
    {
     "name": "stdout",
     "output_type": "stream",
     "text": [
      "<class 'int'> 34\n",
      "<class 'float'> 56.9\n",
      "<class 'str'> hello\n",
      "<class 'tuple'> (1, 2, 3, 4, 5, 8)\n",
      "<class 'list'> ['hi', 89.6, 7]\n",
      "<class 'int'> 8\n",
      "<class 'int'> 9\n",
      "<class 'str'> sam\n",
      "<class 'set'> {1, 2, 3, 4, 5}\n",
      "<class 'int'> 10\n"
     ]
    }
   ],
   "source": [
    "#Q4. Create a list of length 10 of your choice containing multiple types of data. Using for loop print the element and its data type\n",
    "l1 = [34, 56.90,\"hello\",(1,2,3,4,5,8),['hi',89.6,7],8,9,\"sam\",{1,2,3,4,5},10]\n",
    "for i in l1:\n",
    "    print(type(i),i)"
   ]
  },
  {
   "cell_type": "code",
   "execution_count": 15,
   "id": "c84b7da5-45ff-460c-9880-2220673516ef",
   "metadata": {},
   "outputs": [
    {
     "name": "stdin",
     "output_type": "stream",
     "text": [
      "enter the value of A : 8\n",
      "enter the value of B : 2\n"
     ]
    },
    {
     "name": "stdout",
     "output_type": "stream",
     "text": [
      "The number can be divisible 3 times.\n"
     ]
    }
   ],
   "source": [
    "#Q5. Using a while loop, verify if the number A is purely divisible by number B and if so then how many times it can be divisible.\n",
    "A = int(input(\"enter the value of A :\")) \n",
    "B = int(input(\"enter the value of B :\")) \n",
    "i = 0\n",
    "while A%B==0:\n",
    "    A = A//B\n",
    "    i+=1\n",
    "\n",
    "print(f\"The number can be divisible {i} times.\")"
   ]
  },
  {
   "cell_type": "code",
   "execution_count": 17,
   "id": "afa14d4f-0841-418b-82fb-173748cf1228",
   "metadata": {},
   "outputs": [
    {
     "name": "stdout",
     "output_type": "stream",
     "text": [
      "1 is not divisible by 3.\n",
      "2 is not divisible by 3.\n",
      "3 is divisible by 3.\n",
      "4 is not divisible by 3.\n",
      "5 is not divisible by 3.\n",
      "6 is divisible by 3.\n",
      "7 is not divisible by 3.\n",
      "8 is not divisible by 3.\n",
      "9 is divisible by 3.\n",
      "10 is not divisible by 3.\n",
      "11 is not divisible by 3.\n",
      "12 is divisible by 3.\n",
      "13 is not divisible by 3.\n",
      "14 is not divisible by 3.\n",
      "15 is divisible by 3.\n",
      "16 is not divisible by 3.\n",
      "17 is not divisible by 3.\n",
      "18 is divisible by 3.\n",
      "19 is not divisible by 3.\n",
      "20 is not divisible by 3.\n",
      "21 is divisible by 3.\n",
      "22 is not divisible by 3.\n",
      "23 is not divisible by 3.\n",
      "24 is divisible by 3.\n",
      "25 is not divisible by 3.\n"
     ]
    }
   ],
   "source": [
    "num = [ i for i in range(1,26)]\n",
    "for n in num :\n",
    "    if n % 3==0:\n",
    "        print(f\"{n} is divisible by 3.\")\n",
    "    else:\n",
    "        print(f\"{n} is not divisible by 3.\")"
   ]
  },
  {
   "cell_type": "code",
   "execution_count": 18,
   "id": "4f540519-c565-4840-84da-699dae41173d",
   "metadata": {},
   "outputs": [
    {
     "name": "stdout",
     "output_type": "stream",
     "text": [
      "Original list: [1, 2, 3]\n",
      "Modified list: [10, 2, 3]\n",
      "Original string: Hello\n",
      "Modified string: Hello World\n"
     ]
    }
   ],
   "source": [
    "#Q7. What do you understand about mutable and immutable data types? Give examples for both showing this property.\n",
    "#Mutable: You can modify the object in place (e.g., lists, dictionaries).\n",
    "#Immutable: Any modification creates a new object (e.g., strings, tuples).\n",
    "\n",
    "# Example of a mutable list\n",
    "my_list = [1, 2, 3]\n",
    "print(f\"Original list: {my_list}\")\n",
    "\n",
    "# Modifying the list\n",
    "my_list[0] = 10\n",
    "print(f\"Modified list: {my_list}\")\n",
    "\n",
    "# Example of an immutable string\n",
    "my_string = \"Hello\"\n",
    "print(f\"Original string: {my_string}\")\n",
    "\n",
    "# Attempting to modify the string\n",
    "my_string = my_string + \" World\"\n",
    "print(f\"Modified string: {my_string}\")\n",
    "\n"
   ]
  },
  {
   "cell_type": "code",
   "execution_count": null,
   "id": "1bae3bbe-5a0c-43be-9971-131ab35d41c9",
   "metadata": {},
   "outputs": [],
   "source": []
  }
 ],
 "metadata": {
  "kernelspec": {
   "display_name": "Python 3 (ipykernel)",
   "language": "python",
   "name": "python3"
  },
  "language_info": {
   "codemirror_mode": {
    "name": "ipython",
    "version": 3
   },
   "file_extension": ".py",
   "mimetype": "text/x-python",
   "name": "python",
   "nbconvert_exporter": "python",
   "pygments_lexer": "ipython3",
   "version": "3.8.10"
  }
 },
 "nbformat": 4,
 "nbformat_minor": 5
}
